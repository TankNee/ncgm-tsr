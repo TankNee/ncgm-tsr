{
 "cells": [
  {
   "cell_type": "code",
   "execution_count": 1,
   "metadata": {},
   "outputs": [
    {
     "ename": "ModuleNotFoundError",
     "evalue": "No module named 'config'",
     "output_type": "error",
     "traceback": [
      "\u001b[0;31m---------------------------------------------------------------------------\u001b[0m",
      "\u001b[0;31mModuleNotFoundError\u001b[0m                       Traceback (most recent call last)",
      "Cell \u001b[0;32mIn[1], line 3\u001b[0m\n\u001b[1;32m      1\u001b[0m \u001b[39mimport\u001b[39;00m \u001b[39mtorch\u001b[39;00m\n\u001b[1;32m      2\u001b[0m \u001b[39mfrom\u001b[39;00m \u001b[39mtorch\u001b[39;00m \u001b[39mimport\u001b[39;00m nn\n\u001b[0;32m----> 3\u001b[0m \u001b[39mfrom\u001b[39;00m \u001b[39mconfig\u001b[39;00m \u001b[39mimport\u001b[39;00m Config\n\u001b[1;32m      4\u001b[0m \u001b[39mfrom\u001b[39;00m \u001b[39mdata\u001b[39;00m\u001b[39m.\u001b[39;00m\u001b[39mload\u001b[39;00m \u001b[39mimport\u001b[39;00m TableDataLoader\n\u001b[1;32m      5\u001b[0m \u001b[39mfrom\u001b[39;00m \u001b[39mload\u001b[39;00m \u001b[39mimport\u001b[39;00m load\n",
      "\u001b[0;31mModuleNotFoundError\u001b[0m: No module named 'config'"
     ]
    }
   ],
   "source": [
    "import torch\n",
    "from torch import nn\n",
    "from config import Config\n",
    "from data.load import TableDataLoader\n",
    "from load import load\n",
    "from model.cmha import CompressedMultiHeadAttention\n",
    "args = Config('./configs/ncgm.yaml')"
   ]
  },
  {
   "cell_type": "code",
   "execution_count": 2,
   "metadata": {},
   "outputs": [
    {
     "name": "stderr",
     "output_type": "stream",
     "text": [
      "2023-04-15 17:18:21.368 | DEBUG    | data.scitsr:__init__:28 - Word2vec loaded from /Volumes/Disk/Dataset/word2vec/GoogleNews-vectors-negative300.bin\n",
      "2023-04-15 17:18:21.697 | INFO     | data.load:get_dataloader:27 - Dataset SciTSR loaded\n"
     ]
    }
   ],
   "source": [
    "tr_dl = TableDataLoader(args, \"train\")\n",
    "table_train_dl = tr_dl.get_dataloader()"
   ]
  },
  {
   "cell_type": "code",
   "execution_count": 3,
   "metadata": {},
   "outputs": [],
   "source": [
    "model, criterion, optimizer = load(args)"
   ]
  },
  {
   "cell_type": "code",
   "execution_count": 4,
   "metadata": {},
   "outputs": [],
   "source": [
    "for batch in table_train_dl:\n",
    "    # geometry, appearance, content, bounding_box, structure = batch\n",
    "    # save batch pkl\n",
    "    torch.save(batch, 'batch.pkl')\n",
    "    # model(geometry, appearance, content, bounding_box)\n",
    "    break"
   ]
  },
  {
   "cell_type": "code",
   "execution_count": 5,
   "metadata": {},
   "outputs": [],
   "source": [
    "batch = torch.load('batch.pkl')\n",
    "geometry, appearance, content, bounding_box, row_adj_matrix, col_adj_matrix, cell_adj_matrix, structure = batch\n"
   ]
  },
  {
   "cell_type": "code",
   "execution_count": null,
   "metadata": {},
   "outputs": [],
   "source": [
    "device = torch.device(\"cuda\") if torch.cuda.is_available() else torch.device(\"cpu\")"
   ]
  },
  {
   "cell_type": "code",
   "execution_count": 9,
   "metadata": {},
   "outputs": [
    {
     "ename": "",
     "evalue": "",
     "output_type": "error",
     "traceback": [
      "\u001b[1;31mCanceled future for execute_request message before replies were done"
     ]
    },
    {
     "ename": "",
     "evalue": "",
     "output_type": "error",
     "traceback": [
      "\u001b[1;31m在当前单元格或上一个单元格中执行代码时 Kernel 崩溃。请查看单元格中的代码，以确定故障的可能原因。有关详细信息，请单击 <a href='https://aka.ms/vscodeJupyterKernelCrash'>此处</a>。有关更多详细信息，请查看 Jupyter <a href='command:jupyter.viewOutput'>log</a>。"
     ]
    }
   ],
   "source": [
    "# bounding_box = list(bounding_box)\n",
    "bounding_box = bounding_box.squeeze(0)\n",
    "cell_output, row_output, col_output, emb_pairs = model(geometry, appearance, content, bounding_box)"
   ]
  },
  {
   "cell_type": "code",
   "execution_count": null,
   "metadata": {},
   "outputs": [],
   "source": [
    "criterion(cell_output, row_output, col_output, emb_pairs, structure)"
   ]
  },
  {
   "cell_type": "code",
   "execution_count": null,
   "metadata": {},
   "outputs": [],
   "source": [
    "cmha = CompressedMultiHeadAttention(args=args)\n",
    "g = torch.randn(1, 500, 64)\n",
    "a = torch.randn(1, 500 ** 2, 64)\n",
    "c = torch.randn(1, 500 ** 2, 64)\n",
    "o = cmha(g, a, c)"
   ]
  },
  {
   "cell_type": "code",
   "execution_count": 5,
   "metadata": {},
   "outputs": [],
   "source": [
    "import torch"
   ]
  },
  {
   "cell_type": "code",
   "execution_count": 6,
   "metadata": {},
   "outputs": [],
   "source": [
    "X_split = torch.randn((2,500*500,2,192))"
   ]
  },
  {
   "cell_type": "code",
   "execution_count": 7,
   "metadata": {},
   "outputs": [],
   "source": [
    "X_split = X_split.view(-1, 2, X_split.shape[-1])"
   ]
  },
  {
   "cell_type": "code",
   "execution_count": 15,
   "metadata": {},
   "outputs": [
    {
     "data": {
      "text/plain": [
       "tensor([[[ 0.2274, -0.5370,  1.8045,  ..., -0.7050,  0.2152,  0.8532],\n",
       "         [-0.6965, -0.2617,  2.2837,  ..., -0.9323,  0.1051,  0.8985]],\n",
       "\n",
       "        [[ 0.2821, -1.0761,  0.7567,  ..., -0.0681,  1.2673, -0.7953],\n",
       "         [ 0.9313,  0.7097,  0.7224,  ..., -0.8480, -0.8905,  1.3118]],\n",
       "\n",
       "        [[ 1.4729,  0.6691, -0.8735,  ..., -0.9526, -0.4732,  0.4654],\n",
       "         [ 0.7255,  0.8529, -1.7535,  ...,  0.4913,  0.6657, -0.3153]],\n",
       "\n",
       "        ...,\n",
       "\n",
       "        [[-0.6038, -0.6898, -0.8469,  ..., -0.0729, -0.7892, -1.0958],\n",
       "         [ 1.1079,  1.4767,  1.0536,  ..., -1.1476, -0.9632, -2.1035]],\n",
       "\n",
       "        [[ 0.1572,  0.3295, -0.6979,  ..., -1.1455,  1.7771,  1.8045],\n",
       "         [-1.4827, -0.2279,  0.7061,  ...,  1.1584, -1.1652,  0.2748]],\n",
       "\n",
       "        [[-2.6475,  0.6065,  0.8294,  ...,  0.6110, -1.4431,  0.4180],\n",
       "         [ 1.2187, -0.0216,  0.3486,  ..., -0.2644,  0.6000, -0.1866]]])"
      ]
     },
     "execution_count": 15,
     "metadata": {},
     "output_type": "execute_result"
    }
   ],
   "source": [
    "X_split"
   ]
  },
  {
   "cell_type": "code",
   "execution_count": 14,
   "metadata": {},
   "outputs": [
    {
     "data": {
      "text/plain": [
       "torch.Size([500000, 192])"
      ]
     },
     "execution_count": 14,
     "metadata": {},
     "output_type": "execute_result"
    }
   ],
   "source": [
    "(X_split[:, 1, :] - X_split[:, 0, :]).shape"
   ]
  },
  {
   "cell_type": "code",
   "execution_count": 45,
   "metadata": {},
   "outputs": [],
   "source": [
    "input = torch.randn((2, 2, 4), requires_grad=True)\n",
    "target = torch.randint(2, (2,4), dtype=torch.int64)"
   ]
  },
  {
   "cell_type": "code",
   "execution_count": 46,
   "metadata": {},
   "outputs": [
    {
     "data": {
      "text/plain": [
       "(tensor([[[ 1.1733,  0.1229, -0.2633, -1.5430],\n",
       "          [ 0.8043, -0.9127,  0.3433,  0.9226]],\n",
       " \n",
       "         [[ 1.2811, -0.0656,  3.0065, -1.4107],\n",
       "          [ 0.4100, -1.5531, -0.5981,  0.7235]]], requires_grad=True),\n",
       " tensor([[1, 0, 1, 0],\n",
       "         [1, 1, 0, 1]]))"
      ]
     },
     "execution_count": 46,
     "metadata": {},
     "output_type": "execute_result"
    }
   ],
   "source": [
    "input, target"
   ]
  },
  {
   "cell_type": "code",
   "execution_count": 51,
   "metadata": {},
   "outputs": [],
   "source": [
    "input = torch.tensor([[[1,0,1,0],[0,1,0,1]], [[1,1,0,1],[0,0,1,0]]], dtype=torch.float)"
   ]
  },
  {
   "cell_type": "code",
   "execution_count": 52,
   "metadata": {},
   "outputs": [
    {
     "data": {
      "text/plain": [
       "tensor(1.3133)"
      ]
     },
     "execution_count": 52,
     "metadata": {},
     "output_type": "execute_result"
    }
   ],
   "source": [
    "torch.nn.functional.cross_entropy(input, target)"
   ]
  }
 ],
 "metadata": {
  "kernelspec": {
   "display_name": "tsr",
   "language": "python",
   "name": "python3"
  },
  "language_info": {
   "codemirror_mode": {
    "name": "ipython",
    "version": 3
   },
   "file_extension": ".py",
   "mimetype": "text/x-python",
   "name": "python",
   "nbconvert_exporter": "python",
   "pygments_lexer": "ipython3",
   "version": "3.9.13"
  },
  "orig_nbformat": 4
 },
 "nbformat": 4,
 "nbformat_minor": 2
}
