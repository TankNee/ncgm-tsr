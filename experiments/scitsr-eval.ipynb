{
 "cells": [
  {
   "cell_type": "code",
   "execution_count": 6,
   "metadata": {},
   "outputs": [],
   "source": [
    "import sys\n",
    "sys.path.append('..')\n",
    "from eval import json2Relations, eval_relations\n",
    "import os, json"
   ]
  },
  {
   "cell_type": "code",
   "execution_count": 7,
   "metadata": {},
   "outputs": [],
   "source": [
    "dataset_dir = '/Volumes/Disk/Dataset/tsr/SciTSR'\n",
    "train_dir = os.path.join(dataset_dir, 'train')\n",
    "test_dir = os.path.join(dataset_dir, 'test')"
   ]
  },
  {
   "cell_type": "code",
   "execution_count": 8,
   "metadata": {},
   "outputs": [],
   "source": [
    "structure_file = os.path.join(train_dir, 'structure', '0909.1594v1.3.json')\n",
    "with open(structure_file, 'r') as f:\n",
    "    structure = json.load(f)"
   ]
  },
  {
   "cell_type": "code",
   "execution_count": 13,
   "metadata": {},
   "outputs": [
    {
     "name": "stdout",
     "output_type": "stream",
     "text": [
      "Eval 1/1 (100%)                                              \r"
     ]
    }
   ],
   "source": [
    "ground_truth_relations = json2Relations(structure, splitted_content=True)\n",
    "your_relations = ground_truth_relations\n",
    "precision, recall = eval_relations(gt=[ground_truth_relations], res=[your_relations], cmp_blank=True)"
   ]
  },
  {
   "cell_type": "code",
   "execution_count": 12,
   "metadata": {},
   "outputs": [
    {
     "data": {
      "text/plain": [
       "(1.0, 1.0)"
      ]
     },
     "execution_count": 12,
     "metadata": {},
     "output_type": "execute_result"
    }
   ],
   "source": [
    "precision, recall"
   ]
  },
  {
   "cell_type": "code",
   "execution_count": 14,
   "metadata": {},
   "outputs": [
    {
     "name": "stdout",
     "output_type": "stream",
     "text": [
      "Mean:  tensor(1.9960)\n",
      "Variance:  tensor(1.0150)\n"
     ]
    }
   ],
   "source": [
    "import torch\n",
    "\n",
    "# 定义概率分布\n",
    "probs = torch.tensor([0.1, 0.2, 0.3, 0.4])\n",
    "\n",
    "# 生成一组采样\n",
    "samples = torch.multinomial(probs, num_samples=1000, replacement=True)\n",
    "\n",
    "# 计算采样的均值和方差\n",
    "mean = torch.mean(samples.float())\n",
    "variance = torch.var(samples.float())\n",
    "\n",
    "print(\"Mean: \", mean)\n",
    "print(\"Variance: \", variance)"
   ]
  },
  {
   "cell_type": "code",
   "execution_count": null,
   "metadata": {},
   "outputs": [],
   "source": [
    "import torch\n",
    "import torch.distributions as dist\n",
    "\n",
    "# 定义正态分布概率分布对象\n",
    "normal_dist = dist.Normal(0, 1)\n",
    "\n",
    "# 定义原始张量\n",
    "batch_size = 32\n",
    "num_nodes = 10\n",
    "num_hidden = 20\n",
    "x = torch.randn(batch_size, num_nodes * num_nodes, num_hidden)\n",
    "\n",
    "# 定义采样数和采样后的新维度\n",
    "n_samples = 100\n",
    "new_num_nodes = 5\n",
    "\n",
    "# 进行蒙特卡洛采样\n",
    "samples = torch.zeros(batch_size, new_num_nodes * new_num_nodes, num_hidden)\n",
    "for i in range(n_samples):\n",
    "    # 从正态分布中采样\n",
    "    sample = normal_dist.sample(x.shape)\n",
    "    # 将第二个维度平均到新的维度上\n",
    "    sample = sample.mean(dim=1)\n",
    "    # 重塑张量以满足新的形状要求\n",
    "    sample = sample.view(batch_size, num_nodes, num_nodes, num_hidden)\n",
    "    sample = sample.permute(0, 2, 1, 3)\n",
    "    sample = sample.reshape(batch_size, new_num_nodes * new_num_nodes, num_hidden)\n",
    "    # 将采样结果添加到样本集中\n",
    "    samples += sample\n",
    "\n",
    "# 计算平均值以减少第二个维度的数量\n",
    "samples /= n_samples\n",
    "samples = samples.reshape(batch_size, new_num_nodes, new_num_nodes, num_hidden)\n",
    "samples = samples.permute(0, 3, 1, 2)\n"
   ]
  }
 ],
 "metadata": {
  "kernelspec": {
   "display_name": "tsr",
   "language": "python",
   "name": "python3"
  },
  "language_info": {
   "codemirror_mode": {
    "name": "ipython",
    "version": 3
   },
   "file_extension": ".py",
   "mimetype": "text/x-python",
   "name": "python",
   "nbconvert_exporter": "python",
   "pygments_lexer": "ipython3",
   "version": "3.10.10"
  },
  "orig_nbformat": 4
 },
 "nbformat": 4,
 "nbformat_minor": 2
}
