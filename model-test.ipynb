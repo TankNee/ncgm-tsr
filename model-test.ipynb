{
 "cells": [
  {
   "cell_type": "code",
   "execution_count": 1,
   "metadata": {},
   "outputs": [],
   "source": [
    "import torch\n",
    "from torch import nn\n",
    "import tensorwatch as tw\n",
    "from config import Config\n",
    "from data.load import TableDataLoader\n",
    "from load import load\n",
    "from model.cmha import CompressedMultiHeadAttention\n",
    "args = Config('./configs/ncgm.yaml')"
   ]
  },
  {
   "cell_type": "code",
   "execution_count": 2,
   "metadata": {},
   "outputs": [
    {
     "name": "stderr",
     "output_type": "stream",
     "text": [
      "2023-04-10 11:39:10.869 | DEBUG    | data.scitsr:__init__:28 - Word2vec loaded from /Volumes/Disk/Dataset/word2vec/GoogleNews-vectors-negative300.bin\n",
      "2023-04-10 11:39:11.034 | INFO     | data.load:get_dataloader:27 - Dataset SciTSR loaded\n"
     ]
    }
   ],
   "source": [
    "# tr_dl = TableDataLoader(args, \"train\")\n",
    "# table_train_dl = tr_dl.get_dataloader()"
   ]
  },
  {
   "cell_type": "code",
   "execution_count": 3,
   "metadata": {},
   "outputs": [],
   "source": [
    "model, criterion, optimizer = load(args)"
   ]
  },
  {
   "cell_type": "code",
   "execution_count": 4,
   "metadata": {},
   "outputs": [],
   "source": [
    "# for batch in table_train_dl:\n",
    "#     geometry, appearance, content, bounding_box, structure = batch\n",
    "#     # save batch pkl\n",
    "#     torch.save(batch, 'batch.pkl')\n",
    "#     # model(geometry, appearance, content, bounding_box)\n",
    "#     break"
   ]
  },
  {
   "cell_type": "code",
   "execution_count": 4,
   "metadata": {},
   "outputs": [
    {
     "data": {
      "text/plain": [
       "(tensor([[[ -6.8748,   0.1133],\n",
       "          [ -6.4302,   1.0301],\n",
       "          [-12.8182,   3.1024],\n",
       "          ...,\n",
       "          [ -0.0384,  -0.0364],\n",
       "          [ -0.0384,  -0.0364],\n",
       "          [ -0.0384,  -0.0364]]], grad_fn=<ViewBackward0>),\n",
       " tensor([[[ 0.3346,  1.4468],\n",
       "          [ 2.7464,  2.7369],\n",
       "          [ 5.8497,  5.1816],\n",
       "          ...,\n",
       "          [-0.0601,  0.0170],\n",
       "          [-0.0601,  0.0170],\n",
       "          [-0.0601,  0.0170]]], grad_fn=<ViewBackward0>),\n",
       " tensor([[[ 1.7965,  1.8060],\n",
       "          [ 2.6297,  3.6724],\n",
       "          [ 4.1441, 10.4329],\n",
       "          ...,\n",
       "          [ 0.0125,  0.0795],\n",
       "          [ 0.0125,  0.0795],\n",
       "          [ 0.0125,  0.0795]]], grad_fn=<ViewBackward0>),\n",
       " tensor([[[ 0.0000e+00,  0.0000e+00,  6.5944e+00,  ..., -1.7188e-01,\n",
       "            2.5474e-02, -3.2076e-02],\n",
       "          [ 0.0000e+00,  0.0000e+00,  4.9054e+01,  ..., -1.7188e-01,\n",
       "            2.5474e-02, -3.2076e-02],\n",
       "          [ 0.0000e+00,  0.0000e+00,  1.3245e+02,  ..., -1.7188e-01,\n",
       "            2.5474e-02, -3.2076e-02],\n",
       "          ...,\n",
       "          [ 0.0000e+00,  2.0565e-01,  3.3878e-01,  ..., -1.8735e-01,\n",
       "           -5.3697e-02, -2.8541e-02],\n",
       "          [ 0.0000e+00,  2.0565e-01,  3.3878e-01,  ..., -1.8735e-01,\n",
       "           -5.3697e-02, -2.8541e-02],\n",
       "          [ 0.0000e+00,  2.0565e-01,  3.3878e-01,  ..., -1.8735e-01,\n",
       "           -5.3697e-02, -2.8541e-02]]], grad_fn=<ViewBackward0>))"
      ]
     },
     "execution_count": 4,
     "metadata": {},
     "output_type": "execute_result"
    }
   ],
   "source": [
    "batch = torch.load('batch.pkl')\n",
    "geometry, appearance, content, bounding_box, structure = batch\n",
    "cell_output, row_output, col_output, emb_pairs = model(geometry, appearance, content, bounding_box)\n",
    "criterion(cell_output, row_output, col_output, emb_pairs, structure)\n"
   ]
  },
  {
   "cell_type": "code",
   "execution_count": null,
   "metadata": {},
   "outputs": [],
   "source": [
    "cmha = CompressedMultiHeadAttention(args=args)\n",
    "g = torch.randn(1, 500, 64)\n",
    "a = torch.randn(1, 500 ** 2, 64)\n",
    "c = torch.randn(1, 500 ** 2, 64)\n",
    "o = cmha(g, a, c)"
   ]
  },
  {
   "cell_type": "code",
   "execution_count": 5,
   "metadata": {},
   "outputs": [],
   "source": [
    "fc = nn.Sequential(\n",
    "            nn.Linear(64*3*2, 256),\n",
    "            nn.ReLU(),\n",
    "            nn.Linear(256, 2),\n",
    "        )"
   ]
  },
  {
   "cell_type": "code",
   "execution_count": 6,
   "metadata": {},
   "outputs": [
    {
     "data": {
      "text/plain": [
       "torch.Size([1, 250000, 2])"
      ]
     },
     "execution_count": 6,
     "metadata": {},
     "output_type": "execute_result"
    }
   ],
   "source": [
    "a = torch.randn(1, 500 ** 2, 64*3*2)\n",
    "fc(a).shape"
   ]
  }
 ],
 "metadata": {
  "kernelspec": {
   "display_name": "tsr",
   "language": "python",
   "name": "python3"
  },
  "language_info": {
   "codemirror_mode": {
    "name": "ipython",
    "version": 3
   },
   "file_extension": ".py",
   "mimetype": "text/x-python",
   "name": "python",
   "nbconvert_exporter": "python",
   "pygments_lexer": "ipython3",
   "version": "3.10.10"
  },
  "orig_nbformat": 4
 },
 "nbformat": 4,
 "nbformat_minor": 2
}
