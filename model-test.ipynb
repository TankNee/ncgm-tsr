{
 "cells": [
  {
   "cell_type": "code",
   "execution_count": 1,
   "metadata": {},
   "outputs": [],
   "source": [
    "import torch\n",
    "from torch import nn\n",
    "from config import Config\n",
    "from data.load import TableDataLoader\n",
    "from load import load\n",
    "from model.cmha import CompressedMultiHeadAttention\n",
    "args = Config('./configs/ncgm.yaml')"
   ]
  },
  {
   "cell_type": "code",
   "execution_count": 3,
   "metadata": {},
   "outputs": [
    {
     "name": "stderr",
     "output_type": "stream",
     "text": [
      "2023-04-10 21:26:29.252 | DEBUG    | data.scitsr:__init__:28 - Word2vec loaded from /home/data3/tanknee/CodeRepo/ncgm/data/word2vec/GoogleNews-vectors-negative300.bin\n",
      "2023-04-10 21:26:29.382 | INFO     | data.load:get_dataloader:27 - Dataset SciTSR loaded\n"
     ]
    }
   ],
   "source": [
    "tr_dl = TableDataLoader(args, \"train\")\n",
    "table_train_dl = tr_dl.get_dataloader()"
   ]
  },
  {
   "cell_type": "code",
   "execution_count": 2,
   "metadata": {},
   "outputs": [],
   "source": [
    "model, criterion, optimizer = load(args)"
   ]
  },
  {
   "cell_type": "code",
   "execution_count": 4,
   "metadata": {},
   "outputs": [
    {
     "name": "stderr",
     "output_type": "stream",
     "text": [
      "/home/fintech/anaconda3/envs/nee-start/lib/python3.9/site-packages/torchvision/transforms/transforms.py:332: UserWarning: Argument 'interpolation' of type int is deprecated since 0.13 and will be removed in 0.15. Please use InterpolationMode enum.\n",
      "  warnings.warn(\n"
     ]
    }
   ],
   "source": [
    "for batch in table_train_dl:\n",
    "    # geometry, appearance, content, bounding_box, structure = batch\n",
    "    # save batch pkl\n",
    "    torch.save(batch, 'batch.pkl')\n",
    "    # model(geometry, appearance, content, bounding_box)\n",
    "    break"
   ]
  },
  {
   "cell_type": "code",
   "execution_count": 5,
   "metadata": {},
   "outputs": [],
   "source": [
    "batch = torch.load('batch.pkl')\n",
    "geometry, appearance, content, bounding_box, row_adj_matrix, col_adj_matrix, cell_adj_matrix, structure = batch\n"
   ]
  },
  {
   "cell_type": "code",
   "execution_count": 6,
   "metadata": {},
   "outputs": [
    {
     "data": {
      "text/plain": [
       "tensor([[[  0, 188, 206, 324, 213],\n",
       "         [  1,  80, 224, 122, 232],\n",
       "         [  2, 262, 224, 447, 232],\n",
       "         ...,\n",
       "         [497,   0, 194,   0, 194],\n",
       "         [498,   0, 194,   0, 194],\n",
       "         [499,   0, 194,   0, 194]]])"
      ]
     },
     "execution_count": 6,
     "metadata": {},
     "output_type": "execute_result"
    }
   ],
   "source": [
    "bounding_box"
   ]
  },
  {
   "cell_type": "code",
   "execution_count": null,
   "metadata": {},
   "outputs": [],
   "source": [
    "device = torch.device(\"cuda\") if torch.cuda.is_available() else torch.device(\"cpu\")"
   ]
  },
  {
   "cell_type": "code",
   "execution_count": 8,
   "metadata": {},
   "outputs": [
    {
     "data": {
      "text/plain": [
       "torch.Size([1, 500, 5])"
      ]
     },
     "execution_count": 8,
     "metadata": {},
     "output_type": "execute_result"
    }
   ],
   "source": [
    "bounding_box.shape"
   ]
  },
  {
   "cell_type": "code",
   "execution_count": 7,
   "metadata": {},
   "outputs": [
    {
     "ename": "AssertionError",
     "evalue": "The boxes tensor shape is not correct as Tensor[K, 5]",
     "output_type": "error",
     "traceback": [
      "\u001b[0;31m---------------------------------------------------------------------------\u001b[0m",
      "\u001b[0;31mAssertionError\u001b[0m                            Traceback (most recent call last)",
      "\u001b[1;32m/home/data3/tanknee/CodeRepo/ncgm/models/ncgm-tsr/model-test.ipynb 单元格 9\u001b[0m in \u001b[0;36m<cell line: 1>\u001b[0;34m()\u001b[0m\n\u001b[0;32m----> <a href='vscode-notebook-cell://ssh-remote%2Bturing7/home/data3/tanknee/CodeRepo/ncgm/models/ncgm-tsr/model-test.ipynb#W5sdnNjb2RlLXJlbW90ZQ%3D%3D?line=0'>1</a>\u001b[0m cell_output, row_output, col_output, emb_pairs \u001b[39m=\u001b[39m model(geometry, appearance, content, bounding_box)\n",
      "File \u001b[0;32m~/anaconda3/envs/nee-start/lib/python3.9/site-packages/torch/nn/modules/module.py:1130\u001b[0m, in \u001b[0;36mModule._call_impl\u001b[0;34m(self, *input, **kwargs)\u001b[0m\n\u001b[1;32m   1126\u001b[0m \u001b[39m# If we don't have any hooks, we want to skip the rest of the logic in\u001b[39;00m\n\u001b[1;32m   1127\u001b[0m \u001b[39m# this function, and just call forward.\u001b[39;00m\n\u001b[1;32m   1128\u001b[0m \u001b[39mif\u001b[39;00m \u001b[39mnot\u001b[39;00m (\u001b[39mself\u001b[39m\u001b[39m.\u001b[39m_backward_hooks \u001b[39mor\u001b[39;00m \u001b[39mself\u001b[39m\u001b[39m.\u001b[39m_forward_hooks \u001b[39mor\u001b[39;00m \u001b[39mself\u001b[39m\u001b[39m.\u001b[39m_forward_pre_hooks \u001b[39mor\u001b[39;00m _global_backward_hooks\n\u001b[1;32m   1129\u001b[0m         \u001b[39mor\u001b[39;00m _global_forward_hooks \u001b[39mor\u001b[39;00m _global_forward_pre_hooks):\n\u001b[0;32m-> 1130\u001b[0m     \u001b[39mreturn\u001b[39;00m forward_call(\u001b[39m*\u001b[39;49m\u001b[39minput\u001b[39;49m, \u001b[39m*\u001b[39;49m\u001b[39m*\u001b[39;49mkwargs)\n\u001b[1;32m   1131\u001b[0m \u001b[39m# Do not call functions when jit is used\u001b[39;00m\n\u001b[1;32m   1132\u001b[0m full_backward_hooks, non_full_backward_hooks \u001b[39m=\u001b[39m [], []\n",
      "File \u001b[0;32m/home/data3/tanknee/CodeRepo/ncgm/models/ncgm-tsr/model/ncgm.py:171\u001b[0m, in \u001b[0;36mNCGM.forward\u001b[0;34m(self, geometry, appearance, content, bounding_boxes)\u001b[0m\n\u001b[1;32m    168\u001b[0m cnn_feat \u001b[39m=\u001b[39m \u001b[39mself\u001b[39m\u001b[39m.\u001b[39mbackbone_cnn(appearance)\n\u001b[1;32m    169\u001b[0m \u001b[39m# roi align\u001b[39;00m\n\u001b[1;32m    170\u001b[0m \u001b[39m# 此处的roi_align_size是2，因此roi_align的输出的形状是(num_node, num_feat_map, 2, 2)\u001b[39;00m\n\u001b[0;32m--> 171\u001b[0m align_feat \u001b[39m=\u001b[39m CVOps\u001b[39m.\u001b[39;49mroi_align(cnn_feat, bounding_boxes, \u001b[39mself\u001b[39;49m\u001b[39m.\u001b[39;49mroi_align_size)\n\u001b[1;32m    172\u001b[0m appearance_emb \u001b[39m=\u001b[39m \u001b[39mself\u001b[39m\u001b[39m.\u001b[39mappearance_fc(align_feat\u001b[39m.\u001b[39mview(align_feat\u001b[39m.\u001b[39mshape[\u001b[39m0\u001b[39m], \u001b[39m-\u001b[39m\u001b[39m1\u001b[39m))\n\u001b[1;32m    173\u001b[0m appearance_emb \u001b[39m=\u001b[39m appearance_emb\u001b[39m.\u001b[39mview(\n\u001b[1;32m    174\u001b[0m     cnn_feat\u001b[39m.\u001b[39mshape[\u001b[39m0\u001b[39m], \u001b[39m-\u001b[39m\u001b[39m1\u001b[39m, appearance_emb\u001b[39m.\u001b[39mshape[\u001b[39m-\u001b[39m\u001b[39m1\u001b[39m]\n\u001b[1;32m    175\u001b[0m )\n",
      "File \u001b[0;32m~/anaconda3/envs/nee-start/lib/python3.9/site-packages/torchvision/ops/roi_align.py:56\u001b[0m, in \u001b[0;36mroi_align\u001b[0;34m(input, boxes, output_size, spatial_scale, sampling_ratio, aligned)\u001b[0m\n\u001b[1;32m     54\u001b[0m     _log_api_usage_once(roi_align)\n\u001b[1;32m     55\u001b[0m _assert_has_ops()\n\u001b[0;32m---> 56\u001b[0m check_roi_boxes_shape(boxes)\n\u001b[1;32m     57\u001b[0m rois \u001b[39m=\u001b[39m boxes\n\u001b[1;32m     58\u001b[0m output_size \u001b[39m=\u001b[39m _pair(output_size)\n",
      "File \u001b[0;32m~/anaconda3/envs/nee-start/lib/python3.9/site-packages/torchvision/ops/_utils.py:35\u001b[0m, in \u001b[0;36mcheck_roi_boxes_shape\u001b[0;34m(boxes)\u001b[0m\n\u001b[1;32m     31\u001b[0m         torch\u001b[39m.\u001b[39m_assert(\n\u001b[1;32m     32\u001b[0m             _tensor\u001b[39m.\u001b[39msize(\u001b[39m1\u001b[39m) \u001b[39m==\u001b[39m \u001b[39m4\u001b[39m, \u001b[39m\"\u001b[39m\u001b[39mThe shape of the tensor in the boxes list is not correct as List[Tensor[L, 4]]\u001b[39m\u001b[39m\"\u001b[39m\n\u001b[1;32m     33\u001b[0m         )\n\u001b[1;32m     34\u001b[0m \u001b[39melif\u001b[39;00m \u001b[39misinstance\u001b[39m(boxes, torch\u001b[39m.\u001b[39mTensor):\n\u001b[0;32m---> 35\u001b[0m     torch\u001b[39m.\u001b[39;49m_assert(boxes\u001b[39m.\u001b[39;49msize(\u001b[39m1\u001b[39;49m) \u001b[39m==\u001b[39;49m \u001b[39m5\u001b[39;49m, \u001b[39m\"\u001b[39;49m\u001b[39mThe boxes tensor shape is not correct as Tensor[K, 5]\u001b[39;49m\u001b[39m\"\u001b[39;49m)\n\u001b[1;32m     36\u001b[0m \u001b[39melse\u001b[39;00m:\n\u001b[1;32m     37\u001b[0m     torch\u001b[39m.\u001b[39m_assert(\u001b[39mFalse\u001b[39;00m, \u001b[39m\"\u001b[39m\u001b[39mboxes is expected to be a Tensor[L, 5] or a List[Tensor[K, 4]]\u001b[39m\u001b[39m\"\u001b[39m)\n",
      "File \u001b[0;32m~/anaconda3/envs/nee-start/lib/python3.9/site-packages/torch/__init__.py:833\u001b[0m, in \u001b[0;36m_assert\u001b[0;34m(condition, message)\u001b[0m\n\u001b[1;32m    831\u001b[0m \u001b[39mif\u001b[39;00m \u001b[39mtype\u001b[39m(condition) \u001b[39mis\u001b[39;00m \u001b[39mnot\u001b[39;00m torch\u001b[39m.\u001b[39mTensor \u001b[39mand\u001b[39;00m has_torch_function((condition,)):\n\u001b[1;32m    832\u001b[0m     \u001b[39mreturn\u001b[39;00m handle_torch_function(_assert, (condition,), condition, message)\n\u001b[0;32m--> 833\u001b[0m \u001b[39massert\u001b[39;00m condition, message\n",
      "\u001b[0;31mAssertionError\u001b[0m: The boxes tensor shape is not correct as Tensor[K, 5]"
     ]
    }
   ],
   "source": [
    "cell_output, row_output, col_output, emb_pairs = model(geometry, appearance, content, bounding_box)"
   ]
  },
  {
   "cell_type": "code",
   "execution_count": null,
   "metadata": {},
   "outputs": [],
   "source": [
    "criterion(cell_output, row_output, col_output, emb_pairs, structure)"
   ]
  },
  {
   "cell_type": "code",
   "execution_count": null,
   "metadata": {},
   "outputs": [],
   "source": [
    "cmha = CompressedMultiHeadAttention(args=args)\n",
    "g = torch.randn(1, 500, 64)\n",
    "a = torch.randn(1, 500 ** 2, 64)\n",
    "c = torch.randn(1, 500 ** 2, 64)\n",
    "o = cmha(g, a, c)"
   ]
  }
 ],
 "metadata": {
  "kernelspec": {
   "display_name": "tsr",
   "language": "python",
   "name": "python3"
  },
  "language_info": {
   "codemirror_mode": {
    "name": "ipython",
    "version": 3
   },
   "file_extension": ".py",
   "mimetype": "text/x-python",
   "name": "python",
   "nbconvert_exporter": "python",
   "pygments_lexer": "ipython3",
   "version": "3.9.13"
  },
  "orig_nbformat": 4
 },
 "nbformat": 4,
 "nbformat_minor": 2
}
