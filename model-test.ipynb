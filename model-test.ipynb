{
 "cells": [
  {
   "cell_type": "code",
   "execution_count": 1,
   "metadata": {},
   "outputs": [],
   "source": [
    "import torch\n",
    "from torch import nn\n",
    "import tensorwatch as tw\n",
    "from config import Config\n",
    "from data.load import TableDataLoader\n",
    "from load import load\n",
    "from model.cmha import CompressedMultiHeadAttention\n",
    "args = Config('./configs/ncgm.yaml')"
   ]
  },
  {
   "cell_type": "code",
   "execution_count": 2,
   "metadata": {},
   "outputs": [
    {
     "name": "stderr",
     "output_type": "stream",
     "text": [
      "2023-04-10 14:53:11.942 | DEBUG    | data.scitsr:__init__:28 - Word2vec loaded from /Volumes/Disk/Dataset/word2vec/GoogleNews-vectors-negative300.bin\n",
      "2023-04-10 14:53:12.127 | INFO     | data.load:get_dataloader:27 - Dataset SciTSR loaded\n"
     ]
    }
   ],
   "source": [
    "# tr_dl = TableDataLoader(args, \"train\")\n",
    "# table_train_dl = tr_dl.get_dataloader()"
   ]
  },
  {
   "cell_type": "code",
   "execution_count": 3,
   "metadata": {},
   "outputs": [],
   "source": [
    "model, criterion, optimizer = load(args)"
   ]
  },
  {
   "cell_type": "code",
   "execution_count": 4,
   "metadata": {},
   "outputs": [],
   "source": [
    "# for batch in table_train_dl:\n",
    "#     # geometry, appearance, content, bounding_box, structure = batch\n",
    "#     # save batch pkl\n",
    "#     torch.save(batch, 'batch.pkl')\n",
    "#     # model(geometry, appearance, content, bounding_box)\n",
    "#     break"
   ]
  },
  {
   "cell_type": "code",
   "execution_count": null,
   "metadata": {},
   "outputs": [],
   "source": [
    "batch = torch.load('batch.pkl')\n",
    "geometry, appearance, content, bounding_box, row_adj_matrix, col_adj_matrix, cell_adj_matrix, structure = batch\n"
   ]
  },
  {
   "cell_type": "code",
   "execution_count": null,
   "metadata": {},
   "outputs": [],
   "source": [
    "cell_output, row_output, col_output, emb_pairs = model(geometry, appearance, content, bounding_box)"
   ]
  },
  {
   "cell_type": "code",
   "execution_count": null,
   "metadata": {},
   "outputs": [],
   "source": [
    "criterion(cell_output, row_output, col_output, emb_pairs, structure)"
   ]
  },
  {
   "cell_type": "code",
   "execution_count": null,
   "metadata": {},
   "outputs": [],
   "source": [
    "cmha = CompressedMultiHeadAttention(args=args)\n",
    "g = torch.randn(1, 500, 64)\n",
    "a = torch.randn(1, 500 ** 2, 64)\n",
    "c = torch.randn(1, 500 ** 2, 64)\n",
    "o = cmha(g, a, c)"
   ]
  }
 ],
 "metadata": {
  "kernelspec": {
   "display_name": "tsr",
   "language": "python",
   "name": "python3"
  },
  "language_info": {
   "codemirror_mode": {
    "name": "ipython",
    "version": 3
   },
   "file_extension": ".py",
   "mimetype": "text/x-python",
   "name": "python",
   "nbconvert_exporter": "python",
   "pygments_lexer": "ipython3",
   "version": "3.10.10"
  },
  "orig_nbformat": 4
 },
 "nbformat": 4,
 "nbformat_minor": 2
}
